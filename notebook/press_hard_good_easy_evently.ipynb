{
 "cells": [
  {
   "cell_type": "code",
   "execution_count": 1,
   "metadata": {},
   "outputs": [],
   "source": [
    "import numpy as np\n",
    "import json\n",
    "from pathlib import Path\n",
    "\n",
    "result_file = Path(f\"../../Anki-button-usage/button_usage.jsonl\")\n",
    "\n",
    "if result_file.exists():\n",
    "    data = list(map(lambda x: json.loads(x), open(result_file).readlines()))\n",
    "\n",
    "review_rating_probs = np.array([x[\"review_rating_prob\"] for x in data])\n",
    "user_ids = np.array([x[\"user\"] for x in data])\n",
    "variances = np.var(review_rating_probs, axis=1)\n",
    "avg_variance = np.nanmean(variances)\n",
    "four_button_user_ids = user_ids[variances < avg_variance / 2]"
   ]
  },
  {
   "cell_type": "code",
   "execution_count": 2,
   "metadata": {},
   "outputs": [],
   "source": [
    "def weighted_avg_and_std(values, weights):\n",
    "    \"\"\"\n",
    "    Return the weighted average and standard deviation.\n",
    "\n",
    "    They weights are in effect first normalized so that they\n",
    "    sum to 1 (and so they must not all be 0).\n",
    "\n",
    "    values, weights -- NumPy ndarrays with the same shape.\n",
    "    \"\"\"\n",
    "    weights = np.float64(weights)  # force 64-bit precision to avoid errors sometimes\n",
    "    average = np.average(values, weights=weights)\n",
    "    # Bevington, P. R., Data Reduction and Error Analysis for the Physical Sciences, 336 pp., McGraw-Hill, 1969\n",
    "    # https://seismo.berkeley.edu/~kirchner/Toolkits/Toolkit_12.pdf\n",
    "    n_eff = np.square(np.sum(weights)) / np.sum(np.square(weights))\n",
    "    variance = np.average((values - average) ** 2, weights=weights) * (\n",
    "        n_eff / (n_eff - 1)\n",
    "    )\n",
    "    return (average, np.sqrt(variance))"
   ]
  },
  {
   "cell_type": "code",
   "execution_count": null,
   "metadata": {},
   "outputs": [
    {
     "name": "stdout",
     "output_type": "stream",
     "text": [
      "Model: FSRS-6\n",
      "Total number of users: 2570\n",
      "Total number of reviews: 72278130\n",
      "Weighted average by reviews:\n",
      "FSRS-6 LogLoss (mean±std): 0.3278±0.1503\n",
      "FSRS-6 RMSE(bins) (mean±std): 0.0511±0.0305\n",
      "FSRS-6 AUC (mean±std): 0.7043±0.0773\n",
      "Weighted average by log(reviews):\n",
      "FSRS-6 LogLoss (mean±std): 0.3608±0.1611\n",
      "FSRS-6 RMSE(bins) (mean±std): 0.0687±0.0410\n",
      "FSRS-6 AUC (mean±std): 0.6994±0.0848\n",
      "Weighted average by users:\n",
      "FSRS-6 LogLoss (mean±std): 0.3637±0.1623\n",
      "FSRS-6 RMSE(bins) (mean±std): 0.0712±0.0421\n",
      "FSRS-6 AUC (mean±std): 0.6985±0.0862\n",
      "\n",
      "Model: FSRS-6-binary\n",
      "Total number of users: 2570\n",
      "Total number of reviews: 72278130\n",
      "Weighted average by reviews:\n",
      "FSRS-6-binary LogLoss (mean±std): 0.3347±0.1517\n",
      "FSRS-6-binary RMSE(bins) (mean±std): 0.0553±0.0312\n",
      "FSRS-6-binary AUC (mean±std): 0.6736±0.0903\n",
      "Weighted average by log(reviews):\n",
      "FSRS-6-binary LogLoss (mean±std): 0.3688±0.1627\n",
      "FSRS-6-binary RMSE(bins) (mean±std): 0.0728±0.0416\n",
      "FSRS-6-binary AUC (mean±std): 0.6698±0.0953\n",
      "Weighted average by users:\n",
      "FSRS-6-binary LogLoss (mean±std): 0.3718±0.1639\n",
      "FSRS-6-binary RMSE(bins) (mean±std): 0.0752±0.0427\n",
      "FSRS-6-binary AUC (mean±std): 0.6692±0.0964\n",
      "\n"
     ]
    }
   ],
   "source": [
    "for model in [\"FSRS-6\", \"FSRS-6-binary\"]:\n",
    "    print(f\"Model: {model}\")\n",
    "    m = []\n",
    "    parameters = []\n",
    "    sizes = []\n",
    "    result_file = Path(f\"../result/{model}.jsonl\")\n",
    "    with open(result_file, \"r\") as f:\n",
    "        data = [json.loads(x) for x in f.readlines()]\n",
    "    for result in data:\n",
    "        if result[\"user\"] not in four_button_user_ids:\n",
    "            continue\n",
    "        m.append(result[\"metrics\"])\n",
    "        sizes.append(result[\"size\"])\n",
    "        if \"parameters\" in result:\n",
    "            if isinstance(result[\"parameters\"], list):\n",
    "                parameters.append(result[\"parameters\"])\n",
    "            else:\n",
    "                parameters.extend(result[\"parameters\"].values())\n",
    "\n",
    "    print(f\"Total number of users: {len(sizes)}\")\n",
    "    print(f\"Total number of reviews: {sum(sizes)}\")\n",
    "    for scale, size in (\n",
    "        (\"reviews\", np.array(sizes)),\n",
    "        (\"log(reviews)\", np.log(sizes)),\n",
    "        (\"users\", np.ones_like(sizes)),\n",
    "    ):\n",
    "        print(f\"Weighted average by {scale}:\")\n",
    "        for metric in (\"LogLoss\", \"RMSE(bins)\", \"AUC\"):\n",
    "            metrics = np.array([item[metric] for item in m])\n",
    "            size = size[~np.isnan(metrics.astype(float))]\n",
    "            metrics = metrics[~np.isnan(metrics.astype(float))]\n",
    "            wmean, wstd = weighted_avg_and_std(metrics, size)\n",
    "            print(f\"{model} {metric} (mean±std): {wmean:.4f}±{wstd:.4f}\")\n",
    "\n",
    "    print()"
   ]
  }
 ],
 "metadata": {
  "kernelspec": {
   "display_name": "fsrs4anki",
   "language": "python",
   "name": "python3"
  },
  "language_info": {
   "codemirror_mode": {
    "name": "ipython",
    "version": 3
   },
   "file_extension": ".py",
   "mimetype": "text/x-python",
   "name": "python",
   "nbconvert_exporter": "python",
   "pygments_lexer": "ipython3",
   "version": "3.9.16"
  }
 },
 "nbformat": 4,
 "nbformat_minor": 2
}
